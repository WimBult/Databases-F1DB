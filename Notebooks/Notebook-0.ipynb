{
    "metadata": {
        "kernelspec": {
            "name": "SQL",
            "display_name": "SQL",
            "language": "sql"
        },
        "language_info": {
            "name": "sql",
            "version": ""
        }
    },
    "nbformat_minor": 2,
    "nbformat": 4,
    "cells": [
        {
            "cell_type": "code",
            "source": [
                "CREATE TABLE  LEAGUES  (\n",
                "    leaguecode varchar (3) NOT NULL ,\n",
                "    leaguename varchar(50) NOT NULL \n",
                ");\n",
                "CREATE TABLE  TEAMS (\n",
                "    Teamname varchar(50) NOT NULL ,\n",
                "    Teamfullname varchar(50) NOT NULL ,\n",
                "    NationalityCode varchar(10) NOT NULL ,\n",
                "    EngineSupplier varchar(50) NOT NULL \n",
                ");\n",
                "CREATE TABLE  DRIVERS (\n",
                "    DriverName varchar(50) NOT NULL ,\n",
                "    DateOfBirth date NOT NULL ,\n",
                "    DriverCode varchar(3) NOT NULL ,\n",
                "    City varchar(50) NOT NULL ,\n",
                "    NationalityCode varchar(10) NOT NULL  \n",
                ");\n",
                "CREATE TABLE  CIRCUITS (\n",
                "    lCircuitcode varchar(50) NOT NULL ,\n",
                "    Grandprixname varchar (50) NOT NULL ,\n",
                "    Nationalitycode varchar(10) NOT NULL ,\n",
                "    CircuitLocation varchar(50) NOT NULL ,\n",
                "    CircuitRegion varchar(50) NOT NULL \n",
                ");\n",
                ""
            ],
            "metadata": {
                "azdata_cell_guid": "8ade5c67-1240-49f8-9b2f-5186caa38bed"
            },
            "outputs": [
                {
                    "output_type": "display_data",
                    "data": {
                        "text/html": "Commands completed successfully."
                    },
                    "metadata": {}
                },
                {
                    "output_type": "display_data",
                    "data": {
                        "text/html": "Total execution time: 00:00:00.013"
                    },
                    "metadata": {}
                }
            ],
            "execution_count": 1
        }
    ]
}