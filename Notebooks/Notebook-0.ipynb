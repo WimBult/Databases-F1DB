{
    "metadata": {
        "kernelspec": {
            "name": "SQL",
            "display_name": "SQL",
            "language": "sql"
        },
        "language_info": {
            "name": "sql",
            "version": ""
        }
    },
    "nbformat_minor": 2,
    "nbformat": 4,
    "cells": [
        {
            "cell_type": "markdown",
            "source": [
                "Lief Notebook:"
            ],
            "metadata": {
                "azdata_cell_guid": "23758e2e-6fb9-49f2-8514-b8a86ebcebca"
            }
        },
        {
            "cell_type": "code",
            "source": [
                "USE Northwind\r\n",
                "SELECT * FROM Orders"
            ],
            "metadata": {
                "azdata_cell_guid": "dfe34cd6-bb99-42bc-8f67-8cef0b6dd7a9"
            },
            "outputs": [],
            "execution_count": null
        }
    ]
}